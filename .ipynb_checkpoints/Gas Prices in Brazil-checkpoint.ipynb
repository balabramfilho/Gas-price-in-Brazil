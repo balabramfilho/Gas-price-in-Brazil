{
 "cells": [
  {
   "cell_type": "markdown",
   "metadata": {},
   "source": [
    "Let's start by importing all libs that we are going to use"
   ]
  },
  {
   "cell_type": "code",
   "execution_count": 1,
   "metadata": {},
   "outputs": [],
   "source": [
    "import pandas as pd\n",
    "import numpy as np\n",
    "import matplotlib.pyplot as plt\n",
    "import pandas_profiling\n"
   ]
  },
  {
   "cell_type": "markdown",
   "metadata": {},
   "source": [
    "Now, we need to read the file and get in touch with what it's in there."
   ]
  },
  {
   "cell_type": "code",
   "execution_count": 2,
   "metadata": {},
   "outputs": [],
   "source": [
    "df = pd.read_csv('2004-2019.tsv',sep = '\\t', index_col = 0)"
   ]
  },
  {
   "cell_type": "code",
   "execution_count": 3,
   "metadata": {},
   "outputs": [
    {
     "data": {
      "text/html": [
       "<div>\n",
       "<style scoped>\n",
       "    .dataframe tbody tr th:only-of-type {\n",
       "        vertical-align: middle;\n",
       "    }\n",
       "\n",
       "    .dataframe tbody tr th {\n",
       "        vertical-align: top;\n",
       "    }\n",
       "\n",
       "    .dataframe thead th {\n",
       "        text-align: right;\n",
       "    }\n",
       "</style>\n",
       "<table border=\"1\" class=\"dataframe\">\n",
       "  <thead>\n",
       "    <tr style=\"text-align: right;\">\n",
       "      <th></th>\n",
       "      <th>DATA INICIAL</th>\n",
       "      <th>DATA FINAL</th>\n",
       "      <th>REGIÃO</th>\n",
       "      <th>ESTADO</th>\n",
       "      <th>PRODUTO</th>\n",
       "      <th>NÚMERO DE POSTOS PESQUISADOS</th>\n",
       "      <th>UNIDADE DE MEDIDA</th>\n",
       "      <th>PREÇO MÉDIO REVENDA</th>\n",
       "      <th>DESVIO PADRÃO REVENDA</th>\n",
       "      <th>PREÇO MÍNIMO REVENDA</th>\n",
       "      <th>PREÇO MÁXIMO REVENDA</th>\n",
       "      <th>MARGEM MÉDIA REVENDA</th>\n",
       "      <th>COEF DE VARIAÇÃO REVENDA</th>\n",
       "      <th>PREÇO MÉDIO DISTRIBUIÇÃO</th>\n",
       "      <th>DESVIO PADRÃO DISTRIBUIÇÃO</th>\n",
       "      <th>PREÇO MÍNIMO DISTRIBUIÇÃO</th>\n",
       "      <th>PREÇO MÁXIMO DISTRIBUIÇÃO</th>\n",
       "      <th>COEF DE VARIAÇÃO DISTRIBUIÇÃO</th>\n",
       "      <th>MÊS</th>\n",
       "      <th>ANO</th>\n",
       "    </tr>\n",
       "  </thead>\n",
       "  <tbody>\n",
       "    <tr>\n",
       "      <th>0</th>\n",
       "      <td>2004-05-09</td>\n",
       "      <td>2004-05-15</td>\n",
       "      <td>CENTRO OESTE</td>\n",
       "      <td>DISTRITO FEDERAL</td>\n",
       "      <td>ETANOL HIDRATADO</td>\n",
       "      <td>127</td>\n",
       "      <td>R$/l</td>\n",
       "      <td>1.288</td>\n",
       "      <td>0.016</td>\n",
       "      <td>1.19</td>\n",
       "      <td>1.350</td>\n",
       "      <td>0.463</td>\n",
       "      <td>0.012</td>\n",
       "      <td>0.825</td>\n",
       "      <td>0.11</td>\n",
       "      <td>0.4201</td>\n",
       "      <td>0.9666</td>\n",
       "      <td>0.133</td>\n",
       "      <td>5</td>\n",
       "      <td>2004</td>\n",
       "    </tr>\n",
       "    <tr>\n",
       "      <th>1</th>\n",
       "      <td>2004-05-09</td>\n",
       "      <td>2004-05-15</td>\n",
       "      <td>CENTRO OESTE</td>\n",
       "      <td>GOIAS</td>\n",
       "      <td>ETANOL HIDRATADO</td>\n",
       "      <td>387</td>\n",
       "      <td>R$/l</td>\n",
       "      <td>1.162</td>\n",
       "      <td>0.114</td>\n",
       "      <td>0.89</td>\n",
       "      <td>1.449</td>\n",
       "      <td>0.399</td>\n",
       "      <td>0.098</td>\n",
       "      <td>0.763</td>\n",
       "      <td>0.088</td>\n",
       "      <td>0.5013</td>\n",
       "      <td>1.05</td>\n",
       "      <td>0.115</td>\n",
       "      <td>5</td>\n",
       "      <td>2004</td>\n",
       "    </tr>\n",
       "    <tr>\n",
       "      <th>2</th>\n",
       "      <td>2004-05-09</td>\n",
       "      <td>2004-05-15</td>\n",
       "      <td>CENTRO OESTE</td>\n",
       "      <td>MATO GROSSO</td>\n",
       "      <td>ETANOL HIDRATADO</td>\n",
       "      <td>192</td>\n",
       "      <td>R$/l</td>\n",
       "      <td>1.389</td>\n",
       "      <td>0.097</td>\n",
       "      <td>1.18</td>\n",
       "      <td>1.760</td>\n",
       "      <td>0.419</td>\n",
       "      <td>0.070</td>\n",
       "      <td>0.97</td>\n",
       "      <td>0.095</td>\n",
       "      <td>0.5614</td>\n",
       "      <td>1.161</td>\n",
       "      <td>0.098</td>\n",
       "      <td>5</td>\n",
       "      <td>2004</td>\n",
       "    </tr>\n",
       "    <tr>\n",
       "      <th>3</th>\n",
       "      <td>2004-05-09</td>\n",
       "      <td>2004-05-15</td>\n",
       "      <td>CENTRO OESTE</td>\n",
       "      <td>MATO GROSSO DO SUL</td>\n",
       "      <td>ETANOL HIDRATADO</td>\n",
       "      <td>162</td>\n",
       "      <td>R$/l</td>\n",
       "      <td>1.262</td>\n",
       "      <td>0.070</td>\n",
       "      <td>1.09</td>\n",
       "      <td>1.509</td>\n",
       "      <td>0.432</td>\n",
       "      <td>0.055</td>\n",
       "      <td>0.83</td>\n",
       "      <td>0.119</td>\n",
       "      <td>0.5991</td>\n",
       "      <td>1.22242</td>\n",
       "      <td>0.143</td>\n",
       "      <td>5</td>\n",
       "      <td>2004</td>\n",
       "    </tr>\n",
       "    <tr>\n",
       "      <th>4</th>\n",
       "      <td>2004-05-09</td>\n",
       "      <td>2004-05-15</td>\n",
       "      <td>NORDESTE</td>\n",
       "      <td>ALAGOAS</td>\n",
       "      <td>ETANOL HIDRATADO</td>\n",
       "      <td>103</td>\n",
       "      <td>R$/l</td>\n",
       "      <td>1.181</td>\n",
       "      <td>0.078</td>\n",
       "      <td>1.05</td>\n",
       "      <td>1.400</td>\n",
       "      <td>0.24</td>\n",
       "      <td>0.066</td>\n",
       "      <td>0.941</td>\n",
       "      <td>0.077</td>\n",
       "      <td>0.7441</td>\n",
       "      <td>1.0317</td>\n",
       "      <td>0.082</td>\n",
       "      <td>5</td>\n",
       "      <td>2004</td>\n",
       "    </tr>\n",
       "  </tbody>\n",
       "</table>\n",
       "</div>"
      ],
      "text/plain": [
       "  DATA INICIAL  DATA FINAL        REGIÃO              ESTADO  \\\n",
       "0   2004-05-09  2004-05-15  CENTRO OESTE    DISTRITO FEDERAL   \n",
       "1   2004-05-09  2004-05-15  CENTRO OESTE               GOIAS   \n",
       "2   2004-05-09  2004-05-15  CENTRO OESTE         MATO GROSSO   \n",
       "3   2004-05-09  2004-05-15  CENTRO OESTE  MATO GROSSO DO SUL   \n",
       "4   2004-05-09  2004-05-15      NORDESTE             ALAGOAS   \n",
       "\n",
       "            PRODUTO  NÚMERO DE POSTOS PESQUISADOS UNIDADE DE MEDIDA  \\\n",
       "0  ETANOL HIDRATADO                           127              R$/l   \n",
       "1  ETANOL HIDRATADO                           387              R$/l   \n",
       "2  ETANOL HIDRATADO                           192              R$/l   \n",
       "3  ETANOL HIDRATADO                           162              R$/l   \n",
       "4  ETANOL HIDRATADO                           103              R$/l   \n",
       "\n",
       "   PREÇO MÉDIO REVENDA  DESVIO PADRÃO REVENDA  PREÇO MÍNIMO REVENDA  \\\n",
       "0                1.288                  0.016                  1.19   \n",
       "1                1.162                  0.114                  0.89   \n",
       "2                1.389                  0.097                  1.18   \n",
       "3                1.262                  0.070                  1.09   \n",
       "4                1.181                  0.078                  1.05   \n",
       "\n",
       "   PREÇO MÁXIMO REVENDA MARGEM MÉDIA REVENDA  COEF DE VARIAÇÃO REVENDA  \\\n",
       "0                 1.350                0.463                     0.012   \n",
       "1                 1.449                0.399                     0.098   \n",
       "2                 1.760                0.419                     0.070   \n",
       "3                 1.509                0.432                     0.055   \n",
       "4                 1.400                 0.24                     0.066   \n",
       "\n",
       "  PREÇO MÉDIO DISTRIBUIÇÃO DESVIO PADRÃO DISTRIBUIÇÃO  \\\n",
       "0                    0.825                       0.11   \n",
       "1                    0.763                      0.088   \n",
       "2                     0.97                      0.095   \n",
       "3                     0.83                      0.119   \n",
       "4                    0.941                      0.077   \n",
       "\n",
       "  PREÇO MÍNIMO DISTRIBUIÇÃO PREÇO MÁXIMO DISTRIBUIÇÃO  \\\n",
       "0                    0.4201                    0.9666   \n",
       "1                    0.5013                      1.05   \n",
       "2                    0.5614                     1.161   \n",
       "3                    0.5991                   1.22242   \n",
       "4                    0.7441                    1.0317   \n",
       "\n",
       "  COEF DE VARIAÇÃO DISTRIBUIÇÃO  MÊS   ANO  \n",
       "0                         0.133    5  2004  \n",
       "1                         0.115    5  2004  \n",
       "2                         0.098    5  2004  \n",
       "3                         0.143    5  2004  \n",
       "4                         0.082    5  2004  "
      ]
     },
     "execution_count": 3,
     "metadata": {},
     "output_type": "execute_result"
    }
   ],
   "source": [
    "df.head(5)"
   ]
  },
  {
   "cell_type": "code",
   "execution_count": 4,
   "metadata": {},
   "outputs": [
    {
     "name": "stdout",
     "output_type": "stream",
     "text": [
      "<class 'pandas.core.frame.DataFrame'>\n",
      "Int64Index: 106823 entries, 0 to 106822\n",
      "Data columns (total 20 columns):\n",
      "DATA INICIAL                     106823 non-null object\n",
      "DATA FINAL                       106823 non-null object\n",
      "REGIÃO                           106823 non-null object\n",
      "ESTADO                           106823 non-null object\n",
      "PRODUTO                          106823 non-null object\n",
      "NÚMERO DE POSTOS PESQUISADOS     106823 non-null int64\n",
      "UNIDADE DE MEDIDA                106823 non-null object\n",
      "PREÇO MÉDIO REVENDA              106823 non-null float64\n",
      "DESVIO PADRÃO REVENDA            106823 non-null float64\n",
      "PREÇO MÍNIMO REVENDA             106823 non-null float64\n",
      "PREÇO MÁXIMO REVENDA             106823 non-null float64\n",
      "MARGEM MÉDIA REVENDA             106823 non-null object\n",
      "COEF DE VARIAÇÃO REVENDA         106823 non-null float64\n",
      "PREÇO MÉDIO DISTRIBUIÇÃO         106823 non-null object\n",
      "DESVIO PADRÃO DISTRIBUIÇÃO       106823 non-null object\n",
      "PREÇO MÍNIMO DISTRIBUIÇÃO        106823 non-null object\n",
      "PREÇO MÁXIMO DISTRIBUIÇÃO        106823 non-null object\n",
      "COEF DE VARIAÇÃO DISTRIBUIÇÃO    106823 non-null object\n",
      "MÊS                              106823 non-null int64\n",
      "ANO                              106823 non-null int64\n",
      "dtypes: float64(5), int64(3), object(12)\n",
      "memory usage: 17.1+ MB\n"
     ]
    }
   ],
   "source": [
    "df.info()"
   ]
  },
  {
   "cell_type": "markdown",
   "metadata": {},
   "source": [
    "As we can see it would good to change the column name to a more appropriate one. Also, we have to dates that use the object type."
   ]
  },
  {
   "cell_type": "code",
   "execution_count": 29,
   "metadata": {},
   "outputs": [
    {
     "data": {
      "text/plain": [
       "['begin_date',\n",
       " 'end_date',\n",
       " 'region',\n",
       " 'state',\n",
       " 'product',\n",
       " 'num_gas_stations',\n",
       " 'measure_unit',\n",
       " 'mean_resale_price',\n",
       " 'std_resale_price',\n",
       " 'min_resale_price',\n",
       " 'max_resale_price',\n",
       " 'mean_resale_margin',\n",
       " 'coef_resale_variation',\n",
       " 'mean_distribution_price',\n",
       " 'std_distribution_price',\n",
       " 'min_distribution_price',\n",
       " 'max_distribution_price',\n",
       " 'coef_distribution_variation',\n",
       " 'month',\n",
       " 'year']"
      ]
     },
     "execution_count": 29,
     "metadata": {},
     "output_type": "execute_result"
    }
   ],
   "source": [
    "df.columns = ['begin_date', 'end_date', 'region', 'state', 'product', \n",
    "              'num_gas_stations', 'measure_unit', 'mean_resale_price',\n",
    "             'std_resale_price', 'min_resale_price', 'max_resale_price',\n",
    "             'mean_resale_margin', 'coef_resale_variation', 'mean_distribution_price',\n",
    "             'std_distribution_price', 'min_distribution_price', 'max_distribution_price',\n",
    "             'coef_distribution_variation', 'month', 'year']\n",
    "\n",
    "df.columns.tolist()"
   ]
  },
  {
   "cell_type": "markdown",
   "metadata": {},
   "source": [
    "All column names have been converted from portuguese to english. Next is step is to convert some types."
   ]
  },
  {
   "cell_type": "code",
   "execution_count": 10,
   "metadata": {},
   "outputs": [
    {
     "name": "stdout",
     "output_type": "stream",
     "text": [
      "<class 'pandas.core.frame.DataFrame'>\n",
      "Int64Index: 106823 entries, 0 to 106822\n",
      "Data columns (total 20 columns):\n",
      "begin_date                     106823 non-null datetime64[ns]\n",
      "end_date                       106823 non-null datetime64[ns]\n",
      "region                         106823 non-null object\n",
      "state                          106823 non-null object\n",
      "product                        106823 non-null object\n",
      "num_gas_stations               106823 non-null int64\n",
      "measure_unit                   106823 non-null object\n",
      "mean_resale_price              106823 non-null float64\n",
      "std_resale_price               106823 non-null float64\n",
      "min_resale_price               106823 non-null float64\n",
      "max_resale_price               106823 non-null float64\n",
      "mean_resale_margin             103392 non-null float64\n",
      "coef_resale_variation          106823 non-null float64\n",
      "mean_distribution_price        103423 non-null float64\n",
      "std_distribution_price         103423 non-null float64\n",
      "min_distribution_price         103423 non-null float64\n",
      "max_distribution_price         103423 non-null float64\n",
      "coef_distribution_variation    103423 non-null float64\n",
      "month                          106823 non-null int64\n",
      "year                           106823 non-null int64\n",
      "dtypes: datetime64[ns](2), float64(11), int64(3), object(4)\n",
      "memory usage: 17.1+ MB\n"
     ]
    }
   ],
   "source": [
    "datetypes = ['begin_date','end_date']\n",
    "for col in datetypes:\n",
    "    df[col] = pd.to_datetime(df[col], format='%Y-%m-%d', exact = True)\n",
    "\n",
    "numtypes = ['mean_resale_margin', 'mean_distribution_price', 'std_distribution_price', \n",
    "            'min_distribution_price', 'max_distribution_price', 'coef_distribution_variation']\n",
    "\n",
    "for col in numtypes:\n",
    "    df[col] = pd.to_numeric(df[col], errors = 'coerse')\n",
    "\n",
    "df.info()"
   ]
  },
  {
   "cell_type": "code",
   "execution_count": null,
   "metadata": {},
   "outputs": [],
   "source": [
    "df.head(5)"
   ]
  },
  {
   "cell_type": "code",
   "execution_count": 18,
   "metadata": {},
   "outputs": [
    {
     "name": "stdout",
     "output_type": "stream",
     "text": [
      "<class 'pandas.core.frame.DataFrame'>\n",
      "Int64Index: 103392 entries, 0 to 106822\n",
      "Data columns (total 20 columns):\n",
      "begin_date                     103392 non-null datetime64[ns]\n",
      "end_date                       103392 non-null datetime64[ns]\n",
      "region                         103392 non-null object\n",
      "state                          103392 non-null object\n",
      "product                        103392 non-null object\n",
      "num_gas_stations               103392 non-null int64\n",
      "measure_unit                   103392 non-null object\n",
      "mean_resale_price              103392 non-null float64\n",
      "std_resale_price               103392 non-null float64\n",
      "min_resale_price               103392 non-null float64\n",
      "max_resale_price               103392 non-null float64\n",
      "mean_resale_margin             103392 non-null float64\n",
      "coef_resale_variation          103392 non-null float64\n",
      "mean_distribution_price        103392 non-null float64\n",
      "std_distribution_price         103392 non-null float64\n",
      "min_distribution_price         103392 non-null float64\n",
      "max_distribution_price         103392 non-null float64\n",
      "coef_distribution_variation    103392 non-null float64\n",
      "month                          103392 non-null int64\n",
      "year                           103392 non-null int64\n",
      "dtypes: datetime64[ns](2), float64(11), int64(3), object(4)\n",
      "memory usage: 16.6+ MB\n"
     ]
    }
   ],
   "source": [
    "#pd.DatetimeIndex(df['begin_date']).month\n",
    "\n",
    "#df[pd.to_numeric(df['mean_resale_margin'],errors='coerse').isnull() == True].index\n",
    "df = df.dropna()\n",
    "df.info()"
   ]
  },
  {
   "cell_type": "code",
   "execution_count": 19,
   "metadata": {},
   "outputs": [
    {
     "data": {
      "text/plain": [
       "begin_date                     2005-09-25 00:00:00\n",
       "end_date                       2005-10-01 00:00:00\n",
       "region                                       NORTE\n",
       "state                                     RONDONIA\n",
       "product                           ETANOL HIDRATADO\n",
       "num_gas_stations                                20\n",
       "measure_unit                                  R$/l\n",
       "mean_resale_price                            1.714\n",
       "std_resale_price                             0.063\n",
       "min_resale_price                              1.57\n",
       "max_resale_price                              1.85\n",
       "mean_resale_margin                           0.339\n",
       "coef_resale_variation                        0.037\n",
       "mean_distribution_price                      1.375\n",
       "std_distribution_price                       0.074\n",
       "min_distribution_price                       1.213\n",
       "max_distribution_price                      1.4925\n",
       "coef_distribution_variation                  0.054\n",
       "month                                            9\n",
       "year                                          2005\n",
       "Name: 1904, dtype: object"
      ]
     },
     "execution_count": 19,
     "metadata": {},
     "output_type": "execute_result"
    }
   ],
   "source": [
    "df.iloc[1903]"
   ]
  },
  {
   "cell_type": "code",
   "execution_count": 20,
   "metadata": {},
   "outputs": [
    {
     "data": {
      "text/plain": [
       "0"
      ]
     },
     "execution_count": 20,
     "metadata": {},
     "output_type": "execute_result"
    }
   ],
   "source": [
    "df.isnull().sum().sum()"
   ]
  },
  {
   "cell_type": "code",
   "execution_count": 21,
   "metadata": {},
   "outputs": [
    {
     "data": {
      "text/html": [
       "\n",
       "        <iframe\n",
       "            width=\"100%\"\n",
       "            height=\"800px\"\n",
       "            src=\"ipynb_tmp\\profile_5523009552.html\"\n",
       "            frameborder=\"0\"\n",
       "            allowfullscreen\n",
       "        ></iframe>\n",
       "        "
      ],
      "text/plain": [
       "<IPython.lib.display.IFrame at 0x19d0ebede48>"
      ]
     },
     "metadata": {},
     "output_type": "display_data"
    },
    {
     "data": {
      "text/plain": []
     },
     "execution_count": 21,
     "metadata": {},
     "output_type": "execute_result"
    }
   ],
   "source": [
    "df.profile_report()"
   ]
  },
  {
   "cell_type": "code",
   "execution_count": 22,
   "metadata": {},
   "outputs": [
    {
     "data": {
      "text/plain": [
       "['begin_date',\n",
       " 'end_date',\n",
       " 'region',\n",
       " 'state',\n",
       " 'product',\n",
       " 'num_gas_stations',\n",
       " 'measure_unit',\n",
       " 'mean_resale_price',\n",
       " 'std_resale_price',\n",
       " 'min_resale_price',\n",
       " 'max_resale_price',\n",
       " 'mean_resale_margin',\n",
       " 'coef_resale_variation',\n",
       " 'mean_distribution_price',\n",
       " 'std_distribution_price',\n",
       " 'min_distribution_price',\n",
       " 'max_distribution_price',\n",
       " 'coef_distribution_variation',\n",
       " 'month',\n",
       " 'year']"
      ]
     },
     "execution_count": 22,
     "metadata": {},
     "output_type": "execute_result"
    }
   ],
   "source": [
    "list(df.columns)"
   ]
  },
  {
   "cell_type": "markdown",
   "metadata": {},
   "source": [
    "In the first two columns we can see begin date and end date. In last two columns we can see month and year, which is not really necessary since we can obtain those from the two first. Another intresting thing to observe is that it could be possible to have a begin date in a certain month and the end date in another month or even another year."
   ]
  },
  {
   "cell_type": "code",
   "execution_count": 23,
   "metadata": {},
   "outputs": [
    {
     "data": {
      "text/plain": [
       "1"
      ]
     },
     "execution_count": 23,
     "metadata": {},
     "output_type": "execute_result"
    }
   ],
   "source": [
    "min(df['num_gas_stations'])"
   ]
  },
  {
   "cell_type": "code",
   "execution_count": 24,
   "metadata": {},
   "outputs": [
    {
     "data": {
      "text/plain": [
       "['ETANOL HIDRATADO',\n",
       " 'GASOLINA COMUM',\n",
       " 'GLP',\n",
       " 'GNV',\n",
       " 'ÓLEO DIESEL',\n",
       " 'ÓLEO DIESEL S10']"
      ]
     },
     "execution_count": 24,
     "metadata": {},
     "output_type": "execute_result"
    }
   ],
   "source": [
    "df['product'].unique().tolist()"
   ]
  },
  {
   "cell_type": "code",
   "execution_count": 25,
   "metadata": {},
   "outputs": [
    {
     "data": {
      "text/plain": [
       "['R$/l', 'R$/13Kg', 'R$/m3']"
      ]
     },
     "execution_count": 25,
     "metadata": {},
     "output_type": "execute_result"
    }
   ],
   "source": [
    "df['measure_unit'].unique().tolist()"
   ]
  },
  {
   "cell_type": "code",
   "execution_count": 26,
   "metadata": {},
   "outputs": [
    {
     "data": {
      "text/plain": [
       "begin_date                     55536\n",
       "end_date                       55536\n",
       "region                         55536\n",
       "state                          55536\n",
       "product                        55536\n",
       "num_gas_stations               55536\n",
       "measure_unit                   55536\n",
       "mean_resale_price              55536\n",
       "std_resale_price               55536\n",
       "min_resale_price               55536\n",
       "max_resale_price               55536\n",
       "mean_resale_margin             55536\n",
       "coef_resale_variation          55536\n",
       "mean_distribution_price        55536\n",
       "std_distribution_price         55536\n",
       "min_distribution_price         55536\n",
       "max_distribution_price         55536\n",
       "coef_distribution_variation    55536\n",
       "month                          55536\n",
       "year                           55536\n",
       "dtype: int64"
      ]
     },
     "execution_count": 26,
     "metadata": {},
     "output_type": "execute_result"
    }
   ],
   "source": [
    "df[df['num_gas_stations'] >= 100].count()"
   ]
  },
  {
   "cell_type": "code",
   "execution_count": 27,
   "metadata": {},
   "outputs": [
    {
     "name": "stdout",
     "output_type": "stream",
     "text": [
      "Mean of gas station =  240.51 and std = 408.04\n"
     ]
    }
   ],
   "source": [
    "print('Mean of gas station =  {:6.2f} and std = {:6.2f}'.format(df['num_gas_stations'].mean(), \n",
    "                                                      df['num_gas_stations'].std()))"
   ]
  },
  {
   "cell_type": "markdown",
   "metadata": {},
   "source": [
    "As we can see we have a good mean value, but a huge standard deviation in this case (almost twice as the mean value). Which means some gas stations should have a low quantity."
   ]
  },
  {
   "cell_type": "code",
   "execution_count": null,
   "metadata": {},
   "outputs": [],
   "source": []
  }
 ],
 "metadata": {
  "kernelspec": {
   "display_name": "Python 3",
   "language": "python",
   "name": "python3"
  },
  "language_info": {
   "codemirror_mode": {
    "name": "ipython",
    "version": 3
   },
   "file_extension": ".py",
   "mimetype": "text/x-python",
   "name": "python",
   "nbconvert_exporter": "python",
   "pygments_lexer": "ipython3",
   "version": "3.7.3"
  }
 },
 "nbformat": 4,
 "nbformat_minor": 2
}
